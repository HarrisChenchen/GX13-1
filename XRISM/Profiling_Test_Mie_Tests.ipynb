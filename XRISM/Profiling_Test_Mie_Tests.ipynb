{
 "cells": [
  {
   "cell_type": "code",
   "execution_count": 1,
   "id": "aa2cfe3d",
   "metadata": {},
   "outputs": [],
   "source": [
    "import numpy as np\n",
    "import matplotlib.pyplot as plt\n",
    "\n",
    "import astropy.units as u\n",
    "import astropy.constants as c\n",
    "\n",
    "import scipy.optimize as opt  \n",
    "\n",
    "import newdust\n",
    "\n",
    "import cProfile\n",
    "import pstats\n",
    "from pstats import SortKey\n",
    "\n",
    "from line_profiler import LineProfiler"
   ]
  },
  {
   "cell_type": "code",
   "execution_count": 2,
   "id": "810aec77",
   "metadata": {},
   "outputs": [],
   "source": [
    "cm_sil = newdust.graindist.composition.CmSilicate()\n",
    "\n",
    "nE = 65000\n",
    "nG = 1\n",
    "nT = 1\n",
    "\n",
    "Energy = np.logspace(-1, 1, nE) * u.keV\n",
    "GrainRadius = np.logspace(-1, 1, nG) * u.micron\n",
    "Theta = np.logspace(-5.,np.log10(np.pi), nT) * u.rad\n",
    "\n",
    "mtest = newdust.scatteringmodel.Mie()"
   ]
  },
  {
   "cell_type": "code",
   "execution_count": 4,
   "id": "e882e890",
   "metadata": {},
   "outputs": [],
   "source": [
    "cProfile.run('mtest.calculate(Energy, GrainRadius, cm_sil, Theta)', 'scatteringE')"
   ]
  },
  {
   "cell_type": "code",
   "execution_count": 5,
   "id": "e539ad2c",
   "metadata": {},
   "outputs": [],
   "source": [
    "p = pstats.Stats('scatteringE')"
   ]
  },
  {
   "cell_type": "code",
   "execution_count": 6,
   "id": "3e37ca1e",
   "metadata": {},
   "outputs": [
    {
     "name": "stdout",
     "output_type": "stream",
     "text": [
      "Sat Nov 19 16:43:30 2022    scatteringE\n",
      "\n",
      "         149920 function calls (149908 primitive calls) in 109.268 seconds\n",
      "\n",
      "   Ordered by: internal time\n",
      "   List reduced from 139 to 10 due to restriction <10>\n",
      "\n",
      "   ncalls  tottime  percall  cumtime  percall filename:lineno(function)\n",
      "        1  103.895  103.895  108.823  108.823 C:\\Python\\envs\\newdust-env\\lib\\site-packages\\newdust-0.1-py3.10.egg\\newdust\\scatteringmodel\\miescat.py:91(_mie_helper)\n",
      "    10282    2.500    0.000    2.500    0.000 {method 'repeat' of 'numpy.ndarray' objects}\n",
      "    20560    2.294    0.000    2.294    0.000 {built-in method numpy.zeros}\n",
      "        1    0.440    0.440  109.267  109.267 C:\\Python\\envs\\newdust-env\\lib\\site-packages\\newdust-0.1-py3.10.egg\\newdust\\scatteringmodel\\miescat.py:39(calculate)\n",
      "20574/20570    0.026    0.000    2.573    0.000 {built-in method numpy.core._multiarray_umath.implement_array_function}\n",
      "    10279    0.020    0.000    0.051    0.000 <__array_function__ internals>:177(size)\n",
      "    10282    0.020    0.000    2.566    0.000 <__array_function__ internals>:177(repeat)\n",
      "    10282    0.015    0.000    2.532    0.000 C:\\Python\\envs\\newdust-env\\lib\\site-packages\\numpy\\core\\fromnumeric.py:436(repeat)\n",
      "    10281    0.013    0.000    0.013    0.000 {method 'reshape' of 'numpy.ndarray' objects}\n",
      "    10279    0.013    0.000    0.013    0.000 C:\\Python\\envs\\newdust-env\\lib\\site-packages\\numpy\\core\\fromnumeric.py:3163(size)\n",
      "\n",
      "\n"
     ]
    },
    {
     "data": {
      "text/plain": [
       "<pstats.Stats at 0x1f37a479390>"
      ]
     },
     "execution_count": 6,
     "metadata": {},
     "output_type": "execute_result"
    }
   ],
   "source": [
    "p.sort_stats(SortKey.TIME).print_stats(10)"
   ]
  },
  {
   "cell_type": "code",
   "execution_count": 8,
   "id": "510c6202",
   "metadata": {},
   "outputs": [
    {
     "name": "stdout",
     "output_type": "stream",
     "text": [
      "   Ordered by: internal time\n",
      "   List reduced from 139 to 1 due to restriction <'_mie_helper'>\n",
      "\n",
      "Function                                                                                                                called...\n",
      "                                                                                                                            ncalls  tottime  cumtime\n",
      "C:\\Python\\envs\\newdust-env\\lib\\site-packages\\newdust-0.1-py3.10.egg\\newdust\\scatteringmodel\\miescat.py:91(_mie_helper)  ->       2    0.000    0.000  <__array_function__ internals>:177(amax)\n",
      "                                                                                                                                 1    0.000    0.000  <__array_function__ internals>:177(append)\n",
      "                                                                                                                             10279    0.020    2.565  <__array_function__ internals>:177(repeat)\n",
      "                                                                                                                                 4    0.000    0.000  <__array_function__ internals>:177(shape)\n",
      "                                                                                                                             10276    0.020    0.051  <__array_function__ internals>:177(size)\n",
      "                                                                                                                                 1    0.000    0.000  C:\\Python\\envs\\newdust-env\\lib\\site-packages\\newdust-0.1-py3.10.egg\\newdust\\scatteringmodel\\miescat.py:327(_test_complex_mem_usage)\n",
      "                                                                                                                              5138    0.004    0.004  {built-in method builtins.isinstance}\n",
      "                                                                                                                                 4    0.000    0.000  {built-in method builtins.len}\n",
      "                                                                                                                             20560    2.294    2.294  {built-in method numpy.zeros}\n",
      "                                                                                                                                 1    0.000    0.000  {method 'flatten' of 'numpy.ndarray' objects}\n",
      "                                                                                                                             10278    0.013    0.013  {method 'reshape' of 'numpy.ndarray' objects}\n",
      "\n",
      "\n"
     ]
    },
    {
     "data": {
      "text/plain": [
       "<pstats.Stats at 0x1f37a479390>"
      ]
     },
     "execution_count": 8,
     "metadata": {},
     "output_type": "execute_result"
    }
   ],
   "source": [
    "p.sort_stats('tottime').print_callees('_mie_helper')"
   ]
  },
  {
   "cell_type": "code",
   "execution_count": 9,
   "id": "a8bffd57",
   "metadata": {},
   "outputs": [],
   "source": [
    "cm_sil = newdust.graindist.composition.CmSilicate()\n",
    "\n",
    "nE = 1\n",
    "nG = 65000\n",
    "nT = 1\n",
    "\n",
    "Energy = np.logspace(-1, 1, nE) * u.keV\n",
    "GrainRadius = np.logspace(-1, 1, nG) * u.micron\n",
    "Theta = np.logspace(-5.,np.log10(np.pi), nT) * u.rad\n",
    "\n",
    "mtest = newdust.scatteringmodel.Mie()\n",
    "\n",
    "cProfile.run('mtest.calculate(Energy, GrainRadius, cm_sil, Theta)', 'scatteringGS')"
   ]
  },
  {
   "cell_type": "code",
   "execution_count": 10,
   "id": "d8fda3cf",
   "metadata": {},
   "outputs": [
    {
     "name": "stdout",
     "output_type": "stream",
     "text": [
      "Sat Nov 19 16:52:32 2022    scatteringGS\n",
      "\n",
      "         149917 function calls (149905 primitive calls) in 95.345 seconds\n",
      "\n",
      "   Ordered by: internal time\n",
      "   List reduced from 136 to 10 due to restriction <10>\n",
      "\n",
      "   ncalls  tottime  percall  cumtime  percall filename:lineno(function)\n",
      "        1   91.610   91.610   94.910   94.910 C:\\Python\\envs\\newdust-env\\lib\\site-packages\\newdust-0.1-py3.10.egg\\newdust\\scatteringmodel\\miescat.py:91(_mie_helper)\n",
      "    10282    1.956    0.000    1.956    0.000 {method 'repeat' of 'numpy.ndarray' objects}\n",
      "    20560    1.211    0.000    1.211    0.000 {built-in method numpy.zeros}\n",
      "        1    0.433    0.433   95.344   95.344 C:\\Python\\envs\\newdust-env\\lib\\site-packages\\newdust-0.1-py3.10.egg\\newdust\\scatteringmodel\\miescat.py:39(calculate)\n",
      "20574/20570    0.026    0.000    2.027    0.000 {built-in method numpy.core._multiarray_umath.implement_array_function}\n",
      "    10282    0.021    0.000    2.022    0.000 <__array_function__ internals>:177(repeat)\n",
      "    10279    0.020    0.000    0.049    0.000 <__array_function__ internals>:177(size)\n",
      "    10282    0.014    0.000    1.988    0.000 C:\\Python\\envs\\newdust-env\\lib\\site-packages\\numpy\\core\\fromnumeric.py:436(repeat)\n",
      "    10281    0.013    0.000    0.013    0.000 {method 'reshape' of 'numpy.ndarray' objects}\n",
      "    10282    0.013    0.000    1.974    0.000 C:\\Python\\envs\\newdust-env\\lib\\site-packages\\numpy\\core\\fromnumeric.py:51(_wrapfunc)\n",
      "\n",
      "\n"
     ]
    },
    {
     "data": {
      "text/plain": [
       "<pstats.Stats at 0x1f37db53370>"
      ]
     },
     "execution_count": 10,
     "metadata": {},
     "output_type": "execute_result"
    }
   ],
   "source": [
    "p2 = pstats.Stats('scatteringGS')\n",
    "p2.sort_stats(SortKey.TIME).print_stats(10)"
   ]
  },
  {
   "cell_type": "code",
   "execution_count": 12,
   "id": "618fc6b3",
   "metadata": {},
   "outputs": [
    {
     "name": "stdout",
     "output_type": "stream",
     "text": [
      "   Ordered by: internal time\n",
      "   List reduced from 136 to 1 due to restriction <'_mie_helper'>\n",
      "\n",
      "Function                                                                                                                called...\n",
      "                                                                                                                            ncalls  tottime  cumtime\n",
      "C:\\Python\\envs\\newdust-env\\lib\\site-packages\\newdust-0.1-py3.10.egg\\newdust\\scatteringmodel\\miescat.py:91(_mie_helper)  ->       2    0.000    0.000  <__array_function__ internals>:177(amax)\n",
      "                                                                                                                                 1    0.000    0.000  <__array_function__ internals>:177(append)\n",
      "                                                                                                                             10279    0.021    2.022  <__array_function__ internals>:177(repeat)\n",
      "                                                                                                                                 4    0.000    0.000  <__array_function__ internals>:177(shape)\n",
      "                                                                                                                             10276    0.020    0.049  <__array_function__ internals>:177(size)\n",
      "                                                                                                                                 1    0.000    0.000  C:\\Python\\envs\\newdust-env\\lib\\site-packages\\newdust-0.1-py3.10.egg\\newdust\\scatteringmodel\\miescat.py:327(_test_complex_mem_usage)\n",
      "                                                                                                                              5138    0.004    0.004  {built-in method builtins.isinstance}\n",
      "                                                                                                                                 4    0.000    0.000  {built-in method builtins.len}\n",
      "                                                                                                                             20560    1.211    1.211  {built-in method numpy.zeros}\n",
      "                                                                                                                                 1    0.000    0.000  {method 'flatten' of 'numpy.ndarray' objects}\n",
      "                                                                                                                             10278    0.013    0.013  {method 'reshape' of 'numpy.ndarray' objects}\n",
      "\n",
      "\n"
     ]
    },
    {
     "data": {
      "text/plain": [
       "<pstats.Stats at 0x1f37db53370>"
      ]
     },
     "execution_count": 12,
     "metadata": {},
     "output_type": "execute_result"
    }
   ],
   "source": [
    "p2.sort_stats('tottime').print_callees('_mie_helper')"
   ]
  },
  {
   "cell_type": "code",
   "execution_count": 13,
   "id": "424383f0",
   "metadata": {},
   "outputs": [],
   "source": [
    "cm_sil = newdust.graindist.composition.CmSilicate()\n",
    "\n",
    "nE = 1\n",
    "nG = 1\n",
    "nT = 6500000\n",
    "\n",
    "Energy = np.logspace(-1, 1, nE) * u.keV\n",
    "GrainRadius = np.logspace(-1, 1, nG) * u.micron\n",
    "Theta = np.logspace(-5.,np.log10(np.pi), nT) * u.rad\n",
    "\n",
    "mtest = newdust.scatteringmodel.Mie()\n",
    "\n",
    "cProfile.run('mtest.calculate(Energy, GrainRadius, cm_sil, Theta)', 'scatteringT')"
   ]
  },
  {
   "cell_type": "code",
   "execution_count": 14,
   "id": "fd7388da",
   "metadata": {},
   "outputs": [
    {
     "name": "stdout",
     "output_type": "stream",
     "text": [
      "Sat Nov 19 16:59:27 2022    scatteringT\n",
      "\n",
      "         2858 function calls (2846 primitive calls) in 97.933 seconds\n",
      "\n",
      "   Ordered by: internal time\n",
      "   List reduced from 136 to 10 due to restriction <10>\n",
      "\n",
      "   ncalls  tottime  percall  cumtime  percall filename:lineno(function)\n",
      "        1   95.157   95.157   97.899   97.899 C:\\Python\\envs\\newdust-env\\lib\\site-packages\\newdust-0.1-py3.10.egg\\newdust\\scatteringmodel\\miescat.py:91(_mie_helper)\n",
      "      140    2.735    0.020    2.735    0.020 {method 'repeat' of 'numpy.ndarray' objects}\n",
      "        1    0.022    0.022   97.932   97.932 C:\\Python\\envs\\newdust-env\\lib\\site-packages\\newdust-0.1-py3.10.egg\\newdust\\scatteringmodel\\miescat.py:39(calculate)\n",
      "        1    0.010    0.010    0.010    0.010 C:\\Python\\envs\\newdust-env\\lib\\site-packages\\astropy\\units\\core.py:2559(unit_scale_converter)\n",
      "  290/286    0.001    0.000    2.739    0.010 {built-in method numpy.core._multiarray_umath.implement_array_function}\n",
      "        1    0.001    0.001   97.933   97.933 <string>:1(<module>)\n",
      "      276    0.001    0.000    0.001    0.000 {built-in method numpy.zeros}\n",
      "      137    0.001    0.000    0.002    0.000 <__array_function__ internals>:177(size)\n",
      "      140    0.001    0.000    2.738    0.020 <__array_function__ internals>:177(repeat)\n",
      "      139    0.001    0.000    0.001    0.000 {method 'reshape' of 'numpy.ndarray' objects}\n",
      "\n",
      "\n"
     ]
    },
    {
     "data": {
      "text/plain": [
       "<pstats.Stats at 0x1f37ece01f0>"
      ]
     },
     "execution_count": 14,
     "metadata": {},
     "output_type": "execute_result"
    }
   ],
   "source": [
    "p3 = pstats.Stats('scatteringT')\n",
    "p3.sort_stats(SortKey.TIME).print_stats(10)"
   ]
  },
  {
   "cell_type": "code",
   "execution_count": 15,
   "id": "70a606a1",
   "metadata": {},
   "outputs": [
    {
     "name": "stdout",
     "output_type": "stream",
     "text": [
      "   Ordered by: internal time\n",
      "   List reduced from 136 to 1 due to restriction <'_mie_helper'>\n",
      "\n",
      "Function                                                                                                                called...\n",
      "                                                                                                                            ncalls  tottime  cumtime\n",
      "C:\\Python\\envs\\newdust-env\\lib\\site-packages\\newdust-0.1-py3.10.egg\\newdust\\scatteringmodel\\miescat.py:91(_mie_helper)  ->       2    0.000    0.000  <__array_function__ internals>:177(amax)\n",
      "                                                                                                                                 1    0.000    0.000  <__array_function__ internals>:177(append)\n",
      "                                                                                                                               137    0.001    2.738  <__array_function__ internals>:177(repeat)\n",
      "                                                                                                                                 4    0.000    0.000  <__array_function__ internals>:177(shape)\n",
      "                                                                                                                               134    0.001    0.002  <__array_function__ internals>:177(size)\n",
      "                                                                                                                                 1    0.000    0.000  C:\\Python\\envs\\newdust-env\\lib\\site-packages\\newdust-0.1-py3.10.egg\\newdust\\scatteringmodel\\miescat.py:327(_test_complex_mem_usage)\n",
      "                                                                                                                                67    0.000    0.000  {built-in method builtins.isinstance}\n",
      "                                                                                                                                 4    0.000    0.000  {built-in method builtins.len}\n",
      "                                                                                                                               276    0.001    0.001  {built-in method numpy.zeros}\n",
      "                                                                                                                                 1    0.000    0.000  {method 'flatten' of 'numpy.ndarray' objects}\n",
      "                                                                                                                               136    0.001    0.001  {method 'reshape' of 'numpy.ndarray' objects}\n",
      "\n",
      "\n"
     ]
    },
    {
     "data": {
      "text/plain": [
       "<pstats.Stats at 0x1f37ece01f0>"
      ]
     },
     "execution_count": 15,
     "metadata": {},
     "output_type": "execute_result"
    }
   ],
   "source": [
    "p3.sort_stats('tottime').print_callees('_mie_helper')"
   ]
  },
  {
   "cell_type": "code",
   "execution_count": 3,
   "id": "20aee167",
   "metadata": {},
   "outputs": [],
   "source": [
    "def main_func():\n",
    "\n",
    "    cm_sil = newdust.graindist.composition.CmSilicate()\n",
    "\n",
    "    nE = 65000\n",
    "    nG = 1\n",
    "    nT = 1\n",
    "\n",
    "    Energy = np.logspace(-1, 1, nE) * u.keV\n",
    "    GrainRadius = np.logspace(-1, 1, nG) * u.micron\n",
    "    Theta = np.logspace(-5.,np.log10(np.pi), nT) * u.rad\n",
    "\n",
    "    mtest = newdust.scatteringmodel.Mie()\n",
    "    \n",
    "    mtest.calculate(Energy, GrainRadius, cm_sil, Theta)"
   ]
  },
  {
   "cell_type": "code",
   "execution_count": 4,
   "id": "889b63e8",
   "metadata": {
    "scrolled": true
   },
   "outputs": [
    {
     "name": "stdout",
     "output_type": "stream",
     "text": [
      "[ 0.1         0.10000709  0.10001417 ...  9.9985831   9.99929153\n",
      " 10.        ] keV kev\n"
     ]
    },
    {
     "ename": "UnitConversionError",
     "evalue": "Can only apply 'add' function to quantities with compatible dimensions",
     "output_type": "error",
     "traceback": [
      "\u001b[1;31m---------------------------------------------------------------------------\u001b[0m",
      "\u001b[1;31mUnitConversionError\u001b[0m                       Traceback (most recent call last)",
      "File \u001b[1;32mC:\\Python\\envs\\newdust-env\\lib\\site-packages\\astropy\\units\\quantity_helper\\helpers.py:68\u001b[0m, in \u001b[0;36mget_converters_and_unit\u001b[1;34m(f, unit1, unit2)\u001b[0m\n\u001b[0;32m     67\u001b[0m \u001b[38;5;28;01mtry\u001b[39;00m:\n\u001b[1;32m---> 68\u001b[0m     converters[changeable] \u001b[38;5;241m=\u001b[39m \u001b[43mget_converter\u001b[49m\u001b[43m(\u001b[49m\u001b[43munit2\u001b[49m\u001b[43m,\u001b[49m\u001b[43m \u001b[49m\u001b[43munit1\u001b[49m\u001b[43m)\u001b[49m\n\u001b[0;32m     69\u001b[0m \u001b[38;5;28;01mexcept\u001b[39;00m UnitsError:\n",
      "File \u001b[1;32mC:\\Python\\envs\\newdust-env\\lib\\site-packages\\astropy\\units\\quantity_helper\\helpers.py:32\u001b[0m, in \u001b[0;36mget_converter\u001b[1;34m(from_unit, to_unit)\u001b[0m\n\u001b[0;32m     30\u001b[0m \u001b[38;5;124;03m\"\"\"Like Unit._get_converter, except returns None if no scaling is needed,\u001b[39;00m\n\u001b[0;32m     31\u001b[0m \u001b[38;5;124;03mi.e., if the inferred scale is unity.\"\"\"\u001b[39;00m\n\u001b[1;32m---> 32\u001b[0m converter \u001b[38;5;241m=\u001b[39m \u001b[43mfrom_unit\u001b[49m\u001b[38;5;241;43m.\u001b[39;49m\u001b[43m_get_converter\u001b[49m\u001b[43m(\u001b[49m\u001b[43mto_unit\u001b[49m\u001b[43m)\u001b[49m\n\u001b[0;32m     33\u001b[0m \u001b[38;5;28;01mreturn\u001b[39;00m \u001b[38;5;28;01mNone\u001b[39;00m \u001b[38;5;28;01mif\u001b[39;00m converter \u001b[38;5;129;01mis\u001b[39;00m unit_scale_converter \u001b[38;5;28;01melse\u001b[39;00m converter\n",
      "File \u001b[1;32mC:\\Python\\envs\\newdust-env\\lib\\site-packages\\astropy\\units\\core.py:1061\u001b[0m, in \u001b[0;36mUnitBase._get_converter\u001b[1;34m(self, other, equivalencies)\u001b[0m\n\u001b[0;32m   1059\u001b[0m                 \u001b[38;5;28;01mpass\u001b[39;00m\n\u001b[1;32m-> 1061\u001b[0m \u001b[38;5;28;01mraise\u001b[39;00m exc\n",
      "File \u001b[1;32mC:\\Python\\envs\\newdust-env\\lib\\site-packages\\astropy\\units\\core.py:1046\u001b[0m, in \u001b[0;36mUnitBase._get_converter\u001b[1;34m(self, other, equivalencies)\u001b[0m\n\u001b[0;32m   1045\u001b[0m \u001b[38;5;28;01mtry\u001b[39;00m:\n\u001b[1;32m-> 1046\u001b[0m     \u001b[38;5;28;01mreturn\u001b[39;00m \u001b[38;5;28;43mself\u001b[39;49m\u001b[38;5;241;43m.\u001b[39;49m\u001b[43m_apply_equivalencies\u001b[49m\u001b[43m(\u001b[49m\n\u001b[0;32m   1047\u001b[0m \u001b[43m        \u001b[49m\u001b[38;5;28;43mself\u001b[39;49m\u001b[43m,\u001b[49m\u001b[43m \u001b[49m\u001b[43mother\u001b[49m\u001b[43m,\u001b[49m\u001b[43m \u001b[49m\u001b[38;5;28;43mself\u001b[39;49m\u001b[38;5;241;43m.\u001b[39;49m\u001b[43m_normalize_equivalencies\u001b[49m\u001b[43m(\u001b[49m\u001b[43mequivalencies\u001b[49m\u001b[43m)\u001b[49m\u001b[43m)\u001b[49m\n\u001b[0;32m   1048\u001b[0m \u001b[38;5;28;01mexcept\u001b[39;00m UnitsError \u001b[38;5;28;01mas\u001b[39;00m exc:\n\u001b[0;32m   1049\u001b[0m     \u001b[38;5;66;03m# Last hope: maybe other knows how to do it?\u001b[39;00m\n\u001b[0;32m   1050\u001b[0m     \u001b[38;5;66;03m# We assume the equivalencies have the unit itself as first item.\u001b[39;00m\n\u001b[0;32m   1051\u001b[0m     \u001b[38;5;66;03m# TODO: maybe better for other to have a `_back_converter` method?\u001b[39;00m\n",
      "File \u001b[1;32mC:\\Python\\envs\\newdust-env\\lib\\site-packages\\astropy\\units\\core.py:1022\u001b[0m, in \u001b[0;36mUnitBase._apply_equivalencies\u001b[1;34m(self, unit, other, equivalencies)\u001b[0m\n\u001b[0;32m   1020\u001b[0m other_str \u001b[38;5;241m=\u001b[39m get_err_str(other)\n\u001b[1;32m-> 1022\u001b[0m \u001b[38;5;28;01mraise\u001b[39;00m UnitConversionError(\n\u001b[0;32m   1023\u001b[0m     \u001b[38;5;124mf\u001b[39m\u001b[38;5;124m\"\u001b[39m\u001b[38;5;132;01m{\u001b[39;00munit_str\u001b[38;5;132;01m}\u001b[39;00m\u001b[38;5;124m and \u001b[39m\u001b[38;5;132;01m{\u001b[39;00mother_str\u001b[38;5;132;01m}\u001b[39;00m\u001b[38;5;124m are not convertible\u001b[39m\u001b[38;5;124m\"\u001b[39m)\n",
      "\u001b[1;31mUnitConversionError\u001b[0m: 'keV(0.3333) micron(0.3333)' and 'keV micron' are not convertible",
      "\nDuring handling of the above exception, another exception occurred:\n",
      "\u001b[1;31mUnitConversionError\u001b[0m                       Traceback (most recent call last)",
      "Input \u001b[1;32mIn [4]\u001b[0m, in \u001b[0;36m<cell line: 4>\u001b[1;34m()\u001b[0m\n\u001b[0;32m      1\u001b[0m \u001b[38;5;28;01mfrom\u001b[39;00m \u001b[38;5;21;01mMieScattering\u001b[39;00m \u001b[38;5;28;01mimport\u001b[39;00m calculate\n\u001b[0;32m      3\u001b[0m lprofiler \u001b[38;5;241m=\u001b[39m LineProfiler()\n\u001b[1;32m----> 4\u001b[0m lp_wrapper \u001b[38;5;241m=\u001b[39m lprofiler(\u001b[43mcalculate\u001b[49m\u001b[43m(\u001b[49m\u001b[43mEnergy\u001b[49m\u001b[43m,\u001b[49m\u001b[43m \u001b[49m\u001b[43mGrainRadius\u001b[49m\u001b[43m,\u001b[49m\u001b[43m \u001b[49m\u001b[43mcm_sil\u001b[49m\u001b[43m)\u001b[49m)\n\u001b[0;32m      5\u001b[0m lp_wrapper()\n",
      "File \u001b[1;32m~\\Desktop\\research\\XRISM\\XRISM\\MieScattering.py:32\u001b[0m, in \u001b[0;36mcalculate\u001b[1;34m(lam, a, cm, unit, theta, memlim)\u001b[0m\n\u001b[0;32m     29\u001b[0m refrel \u001b[38;5;241m=\u001b[39m np\u001b[38;5;241m.\u001b[39mrepeat(refrel_1d\u001b[38;5;241m.\u001b[39mreshape(NE, \u001b[38;5;241m1\u001b[39m), NA, axis\u001b[38;5;241m=\u001b[39m\u001b[38;5;241m1\u001b[39m)\n\u001b[0;32m     30\u001b[0m x      \u001b[38;5;241m=\u001b[39m \u001b[38;5;241m2.0\u001b[39m \u001b[38;5;241m*\u001b[39m np\u001b[38;5;241m.\u001b[39mpi \u001b[38;5;241m*\u001b[39m a_cm \u001b[38;5;241m/\u001b[39m lam_cm\n\u001b[1;32m---> 32\u001b[0m qsca, qext, qback, gsca, Cdiff \u001b[38;5;241m=\u001b[39m \u001b[43m_mie_helper\u001b[49m\u001b[43m(\u001b[49m\u001b[43mx\u001b[49m\u001b[43m,\u001b[49m\u001b[43m \u001b[49m\u001b[43mrefrel\u001b[49m\u001b[43m,\u001b[49m\u001b[43m \u001b[49m\u001b[43mtheta\u001b[49m\u001b[38;5;241;43m=\u001b[39;49m\u001b[43mth_1d\u001b[49m\u001b[43m,\u001b[49m\u001b[43m \u001b[49m\u001b[43mmemlim\u001b[49m\u001b[38;5;241;43m=\u001b[39;49m\u001b[43mmemlim\u001b[49m\u001b[43m)\u001b[49m\n\u001b[0;32m     34\u001b[0m qsca  \u001b[38;5;241m=\u001b[39m qsca  \u001b[38;5;66;03m# NE x NA\u001b[39;00m\n\u001b[0;32m     35\u001b[0m qext  \u001b[38;5;241m=\u001b[39m qext\n",
      "File \u001b[1;32m~\\Desktop\\research\\XRISM\\XRISM\\MieScattering.py:78\u001b[0m, in \u001b[0;36m_mie_helper\u001b[1;34m(x, refrel, theta, memlim)\u001b[0m\n\u001b[0;32m     73\u001b[0m nx     \u001b[38;5;241m=\u001b[39m \u001b[38;5;28mlen\u001b[39m(x\u001b[38;5;241m.\u001b[39mflatten())  \u001b[38;5;66;03m# total number of NE x NA\u001b[39;00m\n\u001b[0;32m     75\u001b[0m \u001b[38;5;66;03m# *** Series expansion terminated after NSTOP terms\u001b[39;00m\n\u001b[0;32m     76\u001b[0m \u001b[38;5;66;03m# Logarithmic derivatives calculated from NMX on down\u001b[39;00m\n\u001b[1;32m---> 78\u001b[0m xstop  \u001b[38;5;241m=\u001b[39m \u001b[43mx\u001b[49m\u001b[43m \u001b[49m\u001b[38;5;241;43m+\u001b[39;49m\u001b[43m \u001b[49m\u001b[38;5;241;43m4.0\u001b[39;49m\u001b[43m \u001b[49m\u001b[38;5;241;43m*\u001b[39;49m\u001b[43m \u001b[49m\u001b[43mnp\u001b[49m\u001b[38;5;241;43m.\u001b[39;49m\u001b[43mpower\u001b[49m\u001b[43m(\u001b[49m\u001b[43mx\u001b[49m\u001b[43m,\u001b[49m\u001b[43m \u001b[49m\u001b[38;5;241;43m0.3333\u001b[39;49m\u001b[43m)\u001b[49m \u001b[38;5;241m+\u001b[39m \u001b[38;5;241m2.0\u001b[39m\n\u001b[0;32m     79\u001b[0m test   \u001b[38;5;241m=\u001b[39m np\u001b[38;5;241m.\u001b[39mappend(xstop, ymod)\n\u001b[0;32m     80\u001b[0m nmx    \u001b[38;5;241m=\u001b[39m np\u001b[38;5;241m.\u001b[39mmax(test) \u001b[38;5;241m+\u001b[39m \u001b[38;5;241m15\u001b[39m\n",
      "File \u001b[1;32mC:\\Python\\envs\\newdust-env\\lib\\site-packages\\astropy\\units\\quantity.py:591\u001b[0m, in \u001b[0;36mQuantity.__array_ufunc__\u001b[1;34m(self, function, method, *inputs, **kwargs)\u001b[0m\n\u001b[0;32m    569\u001b[0m \u001b[38;5;124;03m\"\"\"Wrap numpy ufuncs, taking care of units.\u001b[39;00m\n\u001b[0;32m    570\u001b[0m \n\u001b[0;32m    571\u001b[0m \u001b[38;5;124;03mParameters\u001b[39;00m\n\u001b[1;32m   (...)\u001b[0m\n\u001b[0;32m    585\u001b[0m \u001b[38;5;124;03m    Results of the ufunc, with the unit set properly.\u001b[39;00m\n\u001b[0;32m    586\u001b[0m \u001b[38;5;124;03m\"\"\"\u001b[39;00m\n\u001b[0;32m    587\u001b[0m \u001b[38;5;66;03m# Determine required conversion functions -- to bring the unit of the\u001b[39;00m\n\u001b[0;32m    588\u001b[0m \u001b[38;5;66;03m# input to that expected (e.g., radian for np.sin), or to get\u001b[39;00m\n\u001b[0;32m    589\u001b[0m \u001b[38;5;66;03m# consistent units between two inputs (e.g., in np.add) --\u001b[39;00m\n\u001b[0;32m    590\u001b[0m \u001b[38;5;66;03m# and the unit of the result (or tuple of units for nout > 1).\u001b[39;00m\n\u001b[1;32m--> 591\u001b[0m converters, unit \u001b[38;5;241m=\u001b[39m \u001b[43mconverters_and_unit\u001b[49m\u001b[43m(\u001b[49m\u001b[43mfunction\u001b[49m\u001b[43m,\u001b[49m\u001b[43m \u001b[49m\u001b[43mmethod\u001b[49m\u001b[43m,\u001b[49m\u001b[43m \u001b[49m\u001b[38;5;241;43m*\u001b[39;49m\u001b[43minputs\u001b[49m\u001b[43m)\u001b[49m\n\u001b[0;32m    593\u001b[0m out \u001b[38;5;241m=\u001b[39m kwargs\u001b[38;5;241m.\u001b[39mget(\u001b[38;5;124m'\u001b[39m\u001b[38;5;124mout\u001b[39m\u001b[38;5;124m'\u001b[39m, \u001b[38;5;28;01mNone\u001b[39;00m)\n\u001b[0;32m    594\u001b[0m \u001b[38;5;66;03m# Avoid loop back by turning any Quantity output into array views.\u001b[39;00m\n",
      "File \u001b[1;32mC:\\Python\\envs\\newdust-env\\lib\\site-packages\\astropy\\units\\quantity_helper\\converters.py:174\u001b[0m, in \u001b[0;36mconverters_and_unit\u001b[1;34m(function, method, *args)\u001b[0m\n\u001b[0;32m    171\u001b[0m units \u001b[38;5;241m=\u001b[39m [\u001b[38;5;28mgetattr\u001b[39m(arg, \u001b[38;5;124m'\u001b[39m\u001b[38;5;124munit\u001b[39m\u001b[38;5;124m'\u001b[39m, \u001b[38;5;28;01mNone\u001b[39;00m) \u001b[38;5;28;01mfor\u001b[39;00m arg \u001b[38;5;129;01min\u001b[39;00m args]\n\u001b[0;32m    173\u001b[0m \u001b[38;5;66;03m# Determine possible conversion functions, and the result unit.\u001b[39;00m\n\u001b[1;32m--> 174\u001b[0m converters, result_unit \u001b[38;5;241m=\u001b[39m \u001b[43mufunc_helper\u001b[49m\u001b[43m(\u001b[49m\u001b[43mfunction\u001b[49m\u001b[43m,\u001b[49m\u001b[43m \u001b[49m\u001b[38;5;241;43m*\u001b[39;49m\u001b[43munits\u001b[49m\u001b[43m)\u001b[49m\n\u001b[0;32m    176\u001b[0m \u001b[38;5;28;01mif\u001b[39;00m \u001b[38;5;28many\u001b[39m(converter \u001b[38;5;129;01mis\u001b[39;00m \u001b[38;5;28;01mFalse\u001b[39;00m \u001b[38;5;28;01mfor\u001b[39;00m converter \u001b[38;5;129;01min\u001b[39;00m converters):\n\u001b[0;32m    177\u001b[0m     \u001b[38;5;66;03m# for multi-argument ufuncs with a quantity and a non-quantity,\u001b[39;00m\n\u001b[0;32m    178\u001b[0m     \u001b[38;5;66;03m# the quantity normally needs to be dimensionless, *except*\u001b[39;00m\n\u001b[1;32m   (...)\u001b[0m\n\u001b[0;32m    181\u001b[0m     \u001b[38;5;66;03m# can just have the unit of the quantity\u001b[39;00m\n\u001b[0;32m    182\u001b[0m     \u001b[38;5;66;03m# (this allows, e.g., `q > 0.` independent of unit)\u001b[39;00m\n\u001b[0;32m    183\u001b[0m     \u001b[38;5;28;01mtry\u001b[39;00m:\n\u001b[0;32m    184\u001b[0m         \u001b[38;5;66;03m# Don't fold this loop in the test above: this rare case\u001b[39;00m\n\u001b[0;32m    185\u001b[0m         \u001b[38;5;66;03m# should not make the common case slower.\u001b[39;00m\n",
      "File \u001b[1;32mC:\\Python\\envs\\newdust-env\\lib\\site-packages\\astropy\\units\\quantity_helper\\helpers.py:70\u001b[0m, in \u001b[0;36mget_converters_and_unit\u001b[1;34m(f, unit1, unit2)\u001b[0m\n\u001b[0;32m     68\u001b[0m     converters[changeable] \u001b[38;5;241m=\u001b[39m get_converter(unit2, unit1)\n\u001b[0;32m     69\u001b[0m \u001b[38;5;28;01mexcept\u001b[39;00m UnitsError:\n\u001b[1;32m---> 70\u001b[0m     \u001b[38;5;28;01mraise\u001b[39;00m UnitConversionError(\n\u001b[0;32m     71\u001b[0m         \u001b[38;5;124m\"\u001b[39m\u001b[38;5;124mCan only apply \u001b[39m\u001b[38;5;124m'\u001b[39m\u001b[38;5;132;01m{}\u001b[39;00m\u001b[38;5;124m'\u001b[39m\u001b[38;5;124m function to quantities \u001b[39m\u001b[38;5;124m\"\u001b[39m\n\u001b[0;32m     72\u001b[0m         \u001b[38;5;124m\"\u001b[39m\u001b[38;5;124mwith compatible dimensions\u001b[39m\u001b[38;5;124m\"\u001b[39m\n\u001b[0;32m     73\u001b[0m         \u001b[38;5;241m.\u001b[39mformat(f\u001b[38;5;241m.\u001b[39m\u001b[38;5;18m__name__\u001b[39m))\n\u001b[0;32m     75\u001b[0m \u001b[38;5;28;01mreturn\u001b[39;00m converters, unit1\n",
      "\u001b[1;31mUnitConversionError\u001b[0m: Can only apply 'add' function to quantities with compatible dimensions"
     ]
    }
   ],
   "source": [
    "from MieScattering import calculate\n",
    "\n",
    "lprofiler = LineProfiler()\n",
    "lp_wrapper = lprofiler(calculate(Energy, GrainRadius, cm_sil))\n",
    "lp_wrapper()"
   ]
  },
  {
   "cell_type": "code",
   "execution_count": 13,
   "id": "e8ebb546",
   "metadata": {},
   "outputs": [
    {
     "name": "stdout",
     "output_type": "stream",
     "text": [
      "Timer unit: 1e-07 s\n",
      "\n",
      "Total time: 101.338 s\n",
      "\n",
      "Could not find file C:\\Users\\Zihao Chen\\AppData\\Local\\Temp\\ipykernel_6824\\3151337675.py\n",
      "Are you sure you are running this program from the same directory\n",
      "that you ran the profiler from?\n",
      "Continuing without the function's contents.\n",
      "\n",
      "Line #      Hits         Time  Per Hit   % Time  Line Contents\n",
      "==============================================================\n",
      "     1                                           \n",
      "     2                                           \n",
      "     3         1     773237.0 773237.0      0.1  \n",
      "     4                                           \n",
      "     5         1          4.0      4.0      0.0  \n",
      "     6         1          2.0      2.0      0.0  \n",
      "     7         1          2.0      2.0      0.0  \n",
      "     8                                           \n",
      "     9         1      14988.0  14988.0      0.0  \n",
      "    10         1        796.0    796.0      0.0  \n",
      "    11         1        565.0    565.0      0.0  \n",
      "    12                                           \n",
      "    13         1        101.0    101.0      0.0  \n",
      "    14                                           \n",
      "    15         1 1012595169.0 1012595169.0     99.9  \n",
      "\n"
     ]
    }
   ],
   "source": [
    "lprofiler.print_stats()"
   ]
  },
  {
   "cell_type": "code",
   "execution_count": 15,
   "id": "ecbf0cc3",
   "metadata": {},
   "outputs": [],
   "source": [
    "%load_ext line_profiler"
   ]
  },
  {
   "cell_type": "code",
   "execution_count": 16,
   "id": "161f20f9",
   "metadata": {},
   "outputs": [],
   "source": [
    "%lprun -f main_func main_func()"
   ]
  },
  {
   "cell_type": "code",
   "execution_count": 3,
   "id": "27b78566",
   "metadata": {},
   "outputs": [
    {
     "name": "stdout",
     "output_type": "stream",
     "text": [
      "[ 0.1         0.10000709  0.10001417 ...  9.9985831   9.99929153\n",
      " 10.        ] keV kev\n"
     ]
    },
    {
     "ename": "UnitConversionError",
     "evalue": "Can only apply 'less' function to dimensionless quantities when other argument is not a quantity (unless the latter is all zero/infinity/nan)",
     "output_type": "error",
     "traceback": [
      "\u001b[1;31m---------------------------------------------------------------------------\u001b[0m",
      "\u001b[1;31mUnitConversionError\u001b[0m                       Traceback (most recent call last)",
      "Input \u001b[1;32mIn [3]\u001b[0m, in \u001b[0;36m<cell line: 3>\u001b[1;34m()\u001b[0m\n\u001b[0;32m      1\u001b[0m \u001b[38;5;28;01mfrom\u001b[39;00m \u001b[38;5;21;01mMieScattering\u001b[39;00m \u001b[38;5;28;01mimport\u001b[39;00m calculate\n\u001b[1;32m----> 3\u001b[0m \u001b[43mcalculate\u001b[49m\u001b[43m(\u001b[49m\u001b[43mEnergy\u001b[49m\u001b[43m,\u001b[49m\u001b[43m \u001b[49m\u001b[43mGrainRadius\u001b[49m\u001b[43m,\u001b[49m\u001b[43m \u001b[49m\u001b[43mcm_sil\u001b[49m\u001b[43m,\u001b[49m\u001b[43m \u001b[49m\u001b[38;5;124;43m'\u001b[39;49m\u001b[38;5;124;43mkev\u001b[39;49m\u001b[38;5;124;43m'\u001b[39;49m\u001b[43m,\u001b[49m\u001b[43m \u001b[49m\u001b[43mTheta\u001b[49m\u001b[43m,\u001b[49m\u001b[43m \u001b[49m\u001b[38;5;241;43m8.0\u001b[39;49m\u001b[43m)\u001b[49m\n",
      "File \u001b[1;32m~\\Desktop\\research\\XRISM\\XRISM\\MieScattering.py:32\u001b[0m, in \u001b[0;36mcalculate\u001b[1;34m(lam, a, cm, unit, theta, memlim)\u001b[0m\n\u001b[0;32m     29\u001b[0m refrel \u001b[38;5;241m=\u001b[39m np\u001b[38;5;241m.\u001b[39mrepeat(refrel_1d\u001b[38;5;241m.\u001b[39mreshape(NE, \u001b[38;5;241m1\u001b[39m), NA, axis\u001b[38;5;241m=\u001b[39m\u001b[38;5;241m1\u001b[39m)\n\u001b[0;32m     30\u001b[0m x      \u001b[38;5;241m=\u001b[39m \u001b[38;5;241m2.0\u001b[39m \u001b[38;5;241m*\u001b[39m np\u001b[38;5;241m.\u001b[39mpi \u001b[38;5;241m*\u001b[39m a_cm \u001b[38;5;241m/\u001b[39m lam_cm\n\u001b[1;32m---> 32\u001b[0m qsca, qext, qback, gsca, Cdiff \u001b[38;5;241m=\u001b[39m \u001b[43m_mie_helper\u001b[49m\u001b[43m(\u001b[49m\u001b[43mx\u001b[49m\u001b[43m,\u001b[49m\u001b[43m \u001b[49m\u001b[43mrefrel\u001b[49m\u001b[43m,\u001b[49m\u001b[43m \u001b[49m\u001b[43mtheta\u001b[49m\u001b[38;5;241;43m=\u001b[39;49m\u001b[43mth_1d\u001b[49m\u001b[43m,\u001b[49m\u001b[43m \u001b[49m\u001b[43mmemlim\u001b[49m\u001b[38;5;241;43m=\u001b[39;49m\u001b[43mmemlim\u001b[49m\u001b[43m)\u001b[49m\n\u001b[0;32m     34\u001b[0m qsca  \u001b[38;5;241m=\u001b[39m qsca  \u001b[38;5;66;03m# NE x NA\u001b[39;00m\n\u001b[0;32m     35\u001b[0m qext  \u001b[38;5;241m=\u001b[39m qext\n",
      "File \u001b[1;32m~\\Desktop\\research\\XRISM\\XRISM\\MieScattering.py:61\u001b[0m, in \u001b[0;36m_mie_helper\u001b[1;34m(x, refrel, theta, memlim)\u001b[0m\n\u001b[0;32m     59\u001b[0m theta_rad \u001b[38;5;241m=\u001b[39m theta_3d \u001b[38;5;241m*\u001b[39m c\u001b[38;5;241m.\u001b[39marcs2rad\n\u001b[0;32m     60\u001b[0m amu       \u001b[38;5;241m=\u001b[39m np\u001b[38;5;241m.\u001b[39mabs(np\u001b[38;5;241m.\u001b[39mcos(theta_rad))\n\u001b[1;32m---> 61\u001b[0m indl90    \u001b[38;5;241m=\u001b[39m (\u001b[43mtheta_rad\u001b[49m\u001b[43m \u001b[49m\u001b[38;5;241;43m<\u001b[39;49m\u001b[43m \u001b[49m\u001b[43mnp\u001b[49m\u001b[38;5;241;43m.\u001b[39;49m\u001b[43mpi\u001b[49m\u001b[38;5;241;43m/\u001b[39;49m\u001b[38;5;241;43m2.0\u001b[39;49m)\n\u001b[0;32m     62\u001b[0m indg90    \u001b[38;5;241m=\u001b[39m (theta_rad \u001b[38;5;241m>\u001b[39m\u001b[38;5;241m=\u001b[39m np\u001b[38;5;241m.\u001b[39mpi\u001b[38;5;241m/\u001b[39m\u001b[38;5;241m2.0\u001b[39m)\n\u001b[0;32m     64\u001b[0m s1    \u001b[38;5;241m=\u001b[39m np\u001b[38;5;241m.\u001b[39mzeros(shape\u001b[38;5;241m=\u001b[39m(NE, NA, NTH), dtype\u001b[38;5;241m=\u001b[39m\u001b[38;5;124m'\u001b[39m\u001b[38;5;124mcomplex\u001b[39m\u001b[38;5;124m'\u001b[39m)\n",
      "File \u001b[1;32mC:\\Python\\envs\\newdust-env\\lib\\site-packages\\astropy\\units\\quantity.py:591\u001b[0m, in \u001b[0;36mQuantity.__array_ufunc__\u001b[1;34m(self, function, method, *inputs, **kwargs)\u001b[0m\n\u001b[0;32m    569\u001b[0m \u001b[38;5;124;03m\"\"\"Wrap numpy ufuncs, taking care of units.\u001b[39;00m\n\u001b[0;32m    570\u001b[0m \n\u001b[0;32m    571\u001b[0m \u001b[38;5;124;03mParameters\u001b[39;00m\n\u001b[1;32m   (...)\u001b[0m\n\u001b[0;32m    585\u001b[0m \u001b[38;5;124;03m    Results of the ufunc, with the unit set properly.\u001b[39;00m\n\u001b[0;32m    586\u001b[0m \u001b[38;5;124;03m\"\"\"\u001b[39;00m\n\u001b[0;32m    587\u001b[0m \u001b[38;5;66;03m# Determine required conversion functions -- to bring the unit of the\u001b[39;00m\n\u001b[0;32m    588\u001b[0m \u001b[38;5;66;03m# input to that expected (e.g., radian for np.sin), or to get\u001b[39;00m\n\u001b[0;32m    589\u001b[0m \u001b[38;5;66;03m# consistent units between two inputs (e.g., in np.add) --\u001b[39;00m\n\u001b[0;32m    590\u001b[0m \u001b[38;5;66;03m# and the unit of the result (or tuple of units for nout > 1).\u001b[39;00m\n\u001b[1;32m--> 591\u001b[0m converters, unit \u001b[38;5;241m=\u001b[39m \u001b[43mconverters_and_unit\u001b[49m\u001b[43m(\u001b[49m\u001b[43mfunction\u001b[49m\u001b[43m,\u001b[49m\u001b[43m \u001b[49m\u001b[43mmethod\u001b[49m\u001b[43m,\u001b[49m\u001b[43m \u001b[49m\u001b[38;5;241;43m*\u001b[39;49m\u001b[43minputs\u001b[49m\u001b[43m)\u001b[49m\n\u001b[0;32m    593\u001b[0m out \u001b[38;5;241m=\u001b[39m kwargs\u001b[38;5;241m.\u001b[39mget(\u001b[38;5;124m'\u001b[39m\u001b[38;5;124mout\u001b[39m\u001b[38;5;124m'\u001b[39m, \u001b[38;5;28;01mNone\u001b[39;00m)\n\u001b[0;32m    594\u001b[0m \u001b[38;5;66;03m# Avoid loop back by turning any Quantity output into array views.\u001b[39;00m\n",
      "File \u001b[1;32mC:\\Python\\envs\\newdust-env\\lib\\site-packages\\astropy\\units\\quantity_helper\\converters.py:192\u001b[0m, in \u001b[0;36mconverters_and_unit\u001b[1;34m(function, method, *args)\u001b[0m\n\u001b[0;32m    190\u001b[0m             converters[i] \u001b[38;5;241m=\u001b[39m \u001b[38;5;28;01mNone\u001b[39;00m\n\u001b[0;32m    191\u001b[0m         \u001b[38;5;28;01melse\u001b[39;00m:\n\u001b[1;32m--> 192\u001b[0m             \u001b[38;5;28;01mraise\u001b[39;00m UnitConversionError(\n\u001b[0;32m    193\u001b[0m                 \u001b[38;5;124m\"\u001b[39m\u001b[38;5;124mCan only apply \u001b[39m\u001b[38;5;124m'\u001b[39m\u001b[38;5;132;01m{}\u001b[39;00m\u001b[38;5;124m'\u001b[39m\u001b[38;5;124m function to \u001b[39m\u001b[38;5;124m\"\u001b[39m\n\u001b[0;32m    194\u001b[0m                 \u001b[38;5;124m\"\u001b[39m\u001b[38;5;124mdimensionless quantities when other \u001b[39m\u001b[38;5;124m\"\u001b[39m\n\u001b[0;32m    195\u001b[0m                 \u001b[38;5;124m\"\u001b[39m\u001b[38;5;124margument is not a quantity (unless the \u001b[39m\u001b[38;5;124m\"\u001b[39m\n\u001b[0;32m    196\u001b[0m                 \u001b[38;5;124m\"\u001b[39m\u001b[38;5;124mlatter is all zero/infinity/nan)\u001b[39m\u001b[38;5;124m\"\u001b[39m\n\u001b[0;32m    197\u001b[0m                 \u001b[38;5;241m.\u001b[39mformat(function\u001b[38;5;241m.\u001b[39m\u001b[38;5;18m__name__\u001b[39m))\n\u001b[0;32m    198\u001b[0m \u001b[38;5;28;01mexcept\u001b[39;00m \u001b[38;5;167;01mTypeError\u001b[39;00m:\n\u001b[0;32m    199\u001b[0m     \u001b[38;5;66;03m# _can_have_arbitrary_unit failed: arg could not be compared\u001b[39;00m\n\u001b[0;32m    200\u001b[0m     \u001b[38;5;66;03m# with zero or checked to be finite. Then, ufunc will fail too.\u001b[39;00m\n\u001b[0;32m    201\u001b[0m     \u001b[38;5;28;01mraise\u001b[39;00m \u001b[38;5;167;01mTypeError\u001b[39;00m(\u001b[38;5;124m\"\u001b[39m\u001b[38;5;124mUnsupported operand type(s) for ufunc \u001b[39m\u001b[38;5;132;01m{}\u001b[39;00m\u001b[38;5;124m: \u001b[39m\u001b[38;5;124m\"\u001b[39m\n\u001b[0;32m    202\u001b[0m                     \u001b[38;5;124m\"\u001b[39m\u001b[38;5;124m'\u001b[39m\u001b[38;5;132;01m{}\u001b[39;00m\u001b[38;5;124m'\u001b[39m\u001b[38;5;124m\"\u001b[39m\u001b[38;5;241m.\u001b[39mformat(function\u001b[38;5;241m.\u001b[39m\u001b[38;5;18m__name__\u001b[39m,\n\u001b[0;32m    203\u001b[0m                                    \u001b[38;5;124m'\u001b[39m\u001b[38;5;124m,\u001b[39m\u001b[38;5;124m'\u001b[39m\u001b[38;5;241m.\u001b[39mjoin([arg\u001b[38;5;241m.\u001b[39m\u001b[38;5;18m__class__\u001b[39m\u001b[38;5;241m.\u001b[39m\u001b[38;5;18m__name__\u001b[39m\n\u001b[0;32m    204\u001b[0m                                              \u001b[38;5;28;01mfor\u001b[39;00m arg \u001b[38;5;129;01min\u001b[39;00m args])))\n",
      "\u001b[1;31mUnitConversionError\u001b[0m: Can only apply 'less' function to dimensionless quantities when other argument is not a quantity (unless the latter is all zero/infinity/nan)"
     ]
    }
   ],
   "source": [
    "from MieScattering import calculate\n",
    "\n",
    "calculate(Energy, GrainRadius, cm_sil, 'kev', Theta, 8.0)"
   ]
  },
  {
   "cell_type": "code",
   "execution_count": 1,
   "id": "917245ef",
   "metadata": {},
   "outputs": [],
   "source": [
    "# Starting here is the test to make sure every script work properly. Start running the program from here.\n",
    "\n",
    "import numpy as np\n",
    "import matplotlib.pyplot as plt\n",
    "\n",
    "import astropy.units as u\n",
    "import astropy.constants as c\n",
    "\n",
    "import scipy.optimize as opt  \n",
    "\n",
    "import newdust\n",
    "\n",
    "import cProfile\n",
    "import pstats\n",
    "from pstats import SortKey\n",
    "\n",
    "from line_profiler import LineProfiler\n",
    "\n",
    "cm_sil = newdust.graindist.composition.CmSilicate()\n",
    "\n",
    "nE = 5000\n",
    "nG = 1\n",
    "nT = 1\n",
    "\n",
    "Energy = np.logspace(-1, 1, nE) * u.keV\n",
    "GrainRadius = np.logspace(-1, 1, nG) * u.micron\n",
    "Theta = np.logspace(-5.,np.log10(np.pi), nT) * u.rad\n",
    "\n",
    "mtest = newdust.scatteringmodel.Mie()"
   ]
  },
  {
   "cell_type": "code",
   "execution_count": 2,
   "id": "03db6616",
   "metadata": {},
   "outputs": [],
   "source": [
    "mtest.calculate(Energy, GrainRadius, cm_sil, Theta)"
   ]
  },
  {
   "cell_type": "code",
   "execution_count": 2,
   "id": "28030630",
   "metadata": {},
   "outputs": [
    {
     "ename": "NameError",
     "evalue": "name 'profile' is not defined",
     "output_type": "error",
     "traceback": [
      "\u001b[1;31m---------------------------------------------------------------------------\u001b[0m",
      "\u001b[1;31mNameError\u001b[0m                                 Traceback (most recent call last)",
      "Input \u001b[1;32mIn [2]\u001b[0m, in \u001b[0;36m<cell line: 1>\u001b[1;34m()\u001b[0m\n\u001b[1;32m----> 1\u001b[0m \u001b[38;5;28;01mfrom\u001b[39;00m \u001b[38;5;21;01mMieScattering\u001b[39;00m \u001b[38;5;28;01mimport\u001b[39;00m calculate\n\u001b[0;32m      3\u001b[0m calculate(Energy, GrainRadius, cm_sil, theta \u001b[38;5;241m=\u001b[39m Theta)\n",
      "File \u001b[1;32m~\\Desktop\\research\\XRISM\\XRISM\\MieScattering.py:9\u001b[0m, in \u001b[0;36m<module>\u001b[1;34m\u001b[0m\n\u001b[0;32m      5\u001b[0m \u001b[38;5;28;01mimport\u001b[39;00m \u001b[38;5;21;01mscipy\u001b[39;00m \u001b[38;5;28;01mas\u001b[39;00m \u001b[38;5;21;01msp\u001b[39;00m\n\u001b[0;32m      7\u001b[0m MAX_RAM \u001b[38;5;241m=\u001b[39m \u001b[38;5;241m8.0\u001b[39m\n\u001b[1;32m----> 9\u001b[0m \u001b[38;5;129m@profile\u001b[39m\n\u001b[0;32m     10\u001b[0m \u001b[38;5;28;01mdef\u001b[39;00m \u001b[38;5;21mcalculate\u001b[39m(lam, a, cm, theta\u001b[38;5;241m=\u001b[39m\u001b[38;5;241m0.0\u001b[39m, memlim\u001b[38;5;241m=\u001b[39mMAX_RAM):\n\u001b[0;32m     11\u001b[0m     \u001b[38;5;124;03m\"\"\"\u001b[39;00m\n\u001b[0;32m     12\u001b[0m \u001b[38;5;124;03m    Calculate the extinction efficiences using the Mie formula for spherical particles.\u001b[39;00m\n\u001b[0;32m     13\u001b[0m \u001b[38;5;124;03m    lam : astropy.units.Quantity -or- numpy.ndarray\u001b[39;00m\n\u001b[1;32m   (...)\u001b[0m\n\u001b[0;32m     27\u001b[0m \u001b[38;5;124;03m    Updates the `qsca`, `qext`, `qabs`, `diff`, `gsca`, and `qback` attributes\u001b[39;00m\n\u001b[0;32m     28\u001b[0m \u001b[38;5;124;03m    \"\"\"\u001b[39;00m\n\u001b[0;32m     29\u001b[0m     \u001b[38;5;66;03m# Store the parameters\u001b[39;00m\n",
      "\u001b[1;31mNameError\u001b[0m: name 'profile' is not defined"
     ]
    }
   ],
   "source": [
    "from MieScattering import calculate\n",
    "\n",
    "calculate(Energy, GrainRadius, cm_sil, theta = Theta)"
   ]
  },
  {
   "cell_type": "code",
   "execution_count": 8,
   "id": "9895201b",
   "metadata": {},
   "outputs": [
    {
     "name": "stdout",
     "output_type": "stream",
     "text": [
      "Timer unit: 1e-07 s\n",
      "\n",
      "Total time: 7.58578 s\n",
      "File: C:\\Users\\Zihao Chen\\Desktop\\research\\XRISM\\XRISM\\MieScattering.py\n",
      "Function: calculate at line 9\n",
      "\n",
      "Line #      Hits         Time  Per Hit   % Time  Line Contents\n",
      "==============================================================\n",
      "     9                                           def calculate(lam, a, cm, theta=0.0, memlim=MAX_RAM):\n",
      "    10                                               \"\"\"\n",
      "    11                                               Calculate the extinction efficiences using the Mie formula for spherical particles.\n",
      "    12                                               lam : astropy.units.Quantity -or- numpy.ndarray\n",
      "    13                                                   Wavelength or energy values for calculating the cross-sections;\n",
      "    14                                                   if no units specified, defaults to keV\n",
      "    15                                               \n",
      "    16                                               a : astropy.units.Quantity -or- numpy.ndarray\n",
      "    17                                                   Grain radius value(s) to use in the calculation;\n",
      "    18                                                   if no units specified, defaults to micron\n",
      "    19                                               \n",
      "    20                                               cm : newdust.graindist.composition object\n",
      "    21                                                   Holds the optical constants and density for the compound.\n",
      "    22                                               \n",
      "    23                                               theta : astropy.units.Quantity -or- numpy.ndarray -or- float\n",
      "    24                                                   Scattering angles for computing the differential scattering cross-section;\n",
      "    25                                                   if no units specified, defaults to radian\n",
      "    26                                               Updates the `qsca`, `qext`, `qabs`, `diff`, `gsca`, and `qback` attributes\n",
      "    27                                               \"\"\"\n",
      "    28                                               # Store the parameters\n",
      "    29         1      14382.0  14382.0      0.0      lam_cm0, a_cm0, theta_rad0 = _store_parameters(lam, a, cm, theta)\n",
      "    30         1        344.0    344.0      0.0      NE, NA, NTH = np.size(lam_cm0), np.size(a_cm0), np.size(theta_rad0)\n",
      "    31                                           \n",
      "    32                                               # Deal with the 1d stuff first\n",
      "    33                                               # Make sure every variable is an array\n",
      "    34         1         79.0     79.0      0.0      lam_cm_1d    = helpers._make_array(lam_cm0)\n",
      "    35         1         48.0     48.0      0.0      a_cm_1d      = helpers._make_array(a_cm0)\n",
      "    36         1         48.0     48.0      0.0      theta_rad_1d = helpers._make_array(theta_rad0)\n",
      "    37                                           \n",
      "    38                                               # Complex index of refraction\n",
      "    39         1      20088.0  20088.0      0.0      refrel_1d = cm.cm(lam_cm_1d * u.cm)\n",
      "    40                                           \n",
      "    41                                               # Make everything NE x NA\n",
      "    42         1        700.0    700.0      0.0      a_cm   = np.repeat(a_cm_1d.reshape(1, NA), NE, axis=0)\n",
      "    43         1        400.0    400.0      0.0      lam_cm = np.repeat(lam_cm_1d.reshape(NE, 1), NA, axis=1)\n",
      "    44         1        520.0    520.0      0.0      refrel = np.repeat(refrel_1d.reshape(NE, 1), NA, axis=1)\n",
      "    45                                               # Size parameter (grain circumference to incoming wavelength)\n",
      "    46         1        183.0    183.0      0.0      x      = 2.0 * np.pi * a_cm / lam_cm\n",
      "    47                                           \n",
      "    48         1   75820692.0 75820692.0    100.0      qsca, qext, qback, gsca, Cdiff = _mie_helper(x, refrel, theta=theta_rad_1d, memlim=memlim)\n",
      "    49                                           \n",
      "    50         1         10.0     10.0      0.0      qsca  = qsca  # NE x NA\n",
      "    51         1          3.0      3.0      0.0      qext  = qext\n",
      "    52         1        254.0    254.0      0.0      qabs  = qext - qsca\n",
      "    53         1          4.0      4.0      0.0      qback = qback\n",
      "    54         1         15.0     15.0      0.0      gsca  = gsca\n",
      "    55         1          6.0      6.0      0.0      diff  = Cdiff # ster^-1,  NE x NA x NTH\n",
      "\n",
      "Total time: 7.46071 s\n",
      "File: C:\\Users\\Zihao Chen\\Desktop\\research\\XRISM\\XRISM\\MieScattering.py\n",
      "Function: _mie_helper at line 59\n",
      "\n",
      "Line #      Hits         Time  Per Hit   % Time  Line Contents\n",
      "==============================================================\n",
      "    59                                           def _mie_helper(x, refrel, theta, memlim=MAX_RAM):\n",
      "    60                                               \"\"\"\n",
      "    61                                               theta is array of length NTH, units of radians\n",
      "    62                                               \n",
      "    63                                               x and refrel are NE x NA\n",
      "    64                                               \n",
      "    65                                               need to make outputs that are NE x NA x NTH\n",
      "    66                                               \"\"\"\n",
      "    67         1        242.0    242.0      0.0      assert np.shape(x) == np.shape(refrel)\n",
      "    68         1        137.0    137.0      0.0      assert len(np.shape(x)) <= 2\n",
      "    69         1         17.0     17.0      0.0      assert len(theta) >= 1\n",
      "    70                                           \n",
      "    71         1        123.0    123.0      0.0      NE, NA = np.shape(x)\n",
      "    72         1         14.0     14.0      0.0      NTH    = len(theta)\n",
      "    73                                           \n",
      "    74                                               # Make 3D array for the calculations on angular dependence\n",
      "    75         1        938.0    938.0      0.0      theta_rad_3d  = np.repeat(\n",
      "    76         1        559.0    559.0      0.0          np.repeat(theta.reshape(1, 1, NTH), NE, axis=0),\n",
      "    77         1          8.0      8.0      0.0          NA, axis=1)\n",
      "    78         1        754.0    754.0      0.0      x_3d      = np.repeat(x.reshape(NE,NA,1), NTH, axis=2)\n",
      "    79                                           \n",
      "    80         1        368.0    368.0      0.0      amu       = np.abs(np.cos(theta_rad_3d))\n",
      "    81         1        163.0    163.0      0.0      indl90    = (theta_rad_3d < np.pi/2.0)\n",
      "    82         1        123.0    123.0      0.0      indg90    = (theta_rad_3d >= np.pi/2.0)\n",
      "    83                                           \n",
      "    84         1         99.0     99.0      0.0      s1    = np.zeros(shape=(NE, NA, NTH), dtype='complex')\n",
      "    85         1        191.0    191.0      0.0      s2    = np.zeros(shape=(NE, NA, NTH), dtype='complex')\n",
      "    86         1        203.0    203.0      0.0      pi    = np.zeros(shape=(NE, NA, NTH), dtype='complex')\n",
      "    87         1        311.0    311.0      0.0      pi0   = np.zeros(shape=(NE, NA, NTH), dtype='complex')\n",
      "    88         1       1197.0   1197.0      0.0      pi1   = np.zeros(shape=(NE, NA, NTH), dtype='complex') + 1.0\n",
      "    89         1         45.0     45.0      0.0      tau   = np.zeros(shape=(NE, NA, NTH), dtype='complex')\n",
      "    90                                           \n",
      "    91         1        935.0    935.0      0.0      y      = x * refrel\n",
      "    92         1        619.0    619.0      0.0      ymod   = np.abs(y)\n",
      "    93         1         76.0     76.0      0.0      nx     = len(x.flatten())  # total number of NE x NA\n",
      "    94                                           \n",
      "    95                                               # *** Series expansion terminated after NSTOP terms\n",
      "    96                                               # Logarithmic derivatives calculated from NMX on down\n",
      "    97                                           \n",
      "    98         1       2031.0   2031.0      0.0      xstop  = x + 4.0 * np.power(x, 0.3333) + 2.0\n",
      "    99         1       1518.0   1518.0      0.0      test   = np.append(xstop, ymod)\n",
      "   100         1        516.0    516.0      0.0      nmx    = np.max(test) + 15\n",
      "   101         1        208.0    208.0      0.0      nmx    = np.int64(nmx)  # max number of iterations\n",
      "   102                                           \n",
      "   103         1          5.0      5.0      0.0      nstop  = xstop\n",
      "   104                                           #   nmxx   = 150000\n",
      "   105                                           \n",
      "   106                                           #    if (nmx > nmxx):\n",
      "   107                                           #        print('error: nmx > nmxx=', nmxx, ' for |m|x=', ymod)\n",
      "   108                                               # *** Logarithmic derivative D(J) calculated by downward recurrence\n",
      "   109                                               # beginning with initial value (0.,0.) at J=NMX\n",
      "   110                                           \n",
      "   111                                               ## Check memory usage\n",
      "   112                                               ## If it is above the memory limit, stop the calculation\n",
      "   113         1         31.0     31.0      0.0      dsize  = np.int64(NE * NA * nmx)\n",
      "   114         1        116.0    116.0      0.0      dspace = _test_complex_mem_usage(dsize)  # GB\n",
      "   115         1         17.0     17.0      0.0      if dspace > memlim:\n",
      "   116                                                   print(\"WARNING!! Space needed (%f GB) exceeds memory limit (%.2f GB)\" % (dspace, memlim))\n",
      "   117                                                   print(\"WARNING!! Try increasing the memlim keyword to match available RAM, or decrease sampling\")\n",
      "   118                                                   return (0.0, 0.0, 0.0, 0.0, 0.0)\n",
      "   119                                           \n",
      "   120         1        294.0    294.0      0.0      d = np.zeros(shape=(NE,NA,nmx+1), dtype='complex')  # NE x NA x nmx\n",
      "   121         1        573.0    573.0      0.0      dold = np.zeros(nmx+1, dtype='complex')\n",
      "   122                                               # Original code set size to nmxx.\n",
      "   123                                               # I see that the array only needs to be slightly larger than nmx\n",
      "   124                                           \n",
      "   125      5152      21228.0      4.1      0.0      for n in range(1,nmx):  # for n=1, nmx-1 do begin\n",
      "   126      5152      27839.0      5.4      0.0          en = nmx - n + 1\n",
      "   127                                                   #assert isinstance(en, int)\n",
      "   128                                                   #assert isinstance(nmx-n, int)\n",
      "   129                                                   #assert isinstance(nmx-n+1, int)\n",
      "   130      5152    6820856.0   1323.9      9.1          d[...,nmx-n]  = (en/y) - (1.0 / (d[...,nmx-n+1]+en/y))\n",
      "   131                                           \n",
      "   132                                               # *** Riccati-Bessel functions with real argument X\n",
      "   133                                               # calculated by upward recurrence\n",
      "   134                                           \n",
      "   135         1        565.0    565.0      0.0      psi0 = np.cos(x)  # NE x NA\n",
      "   136         1        508.0    508.0      0.0      psi1 = np.sin(x)\n",
      "   137         1        344.0    344.0      0.0      chi0 = -np.sin(x)\n",
      "   138         1        298.0    298.0      0.0      chi1 = np.cos(x)\n",
      "   139         1        431.0    431.0      0.0      xi1  = psi1 - 1j * chi1\n",
      "   140                                           \n",
      "   141         1          4.0      4.0      0.0      qsca = 0.0    # scattering efficiency\n",
      "   142         1          4.0      4.0      0.0      gsca = 0.0    # <cos(theta)>\n",
      "   143                                           \n",
      "   144         1          3.0      3.0      0.0      s1_ext = 0\n",
      "   145         1          3.0      3.0      0.0      s2_ext = 0\n",
      "   146         1          3.0      3.0      0.0      s1_back = 0\n",
      "   147         1          3.0      3.0      0.0      s2_back = 0\n",
      "   148                                           \n",
      "   149         1          2.0      2.0      0.0      pi_ext  = 0\n",
      "   150         1          3.0      3.0      0.0      pi0_ext = 0\n",
      "   151         1          2.0      2.0      0.0      pi1_ext = 1\n",
      "   152         1          2.0      2.0      0.0      tau_ext = 0\n",
      "   153                                           \n",
      "   154         1          5.0      5.0      0.0      p    = -1.0\n",
      "   155                                           \n",
      "   156      5138      21239.0      4.1      0.0      for n in range(1,int(np.max(nstop))+1):  # for n=1, nstop do begin\n",
      "   157      5138      48000.0      9.3      0.1          assert isinstance(n, int)\n",
      "   158      5138      15742.0      3.1      0.0          en = n\n",
      "   159      5138      35788.0      7.0      0.0          fn = (2.0*en+1.0) / (en * (en+1.0))\n",
      "   160                                           \n",
      "   161                                                   # for given N, PSI  = psi_n        CHI  = chi_n\n",
      "   162                                                   #              PSI1 = psi_{n-1}    CHI1 = chi_{n-1}\n",
      "   163                                                   #              PSI0 = psi_{n-2}    CHI0 = chi_{n-2}\n",
      "   164                                                   # Calculate psi_n and chi_n\n",
      "   165                                                   # *** Compute AN and BN:\n",
      "   166                                           \n",
      "   167                                                   #*** Store previous values of AN and BN for use\n",
      "   168                                                   #    in computation of g=<cos(theta)>\n",
      "   169      5137      23500.0      4.6      0.0          if n > 1:\n",
      "   170      5137      25677.0      5.0      0.0              an1 = an\n",
      "   171      5137      31039.0      6.0      0.0              bn1 = bn\n",
      "   172                                           \n",
      "   173      5138     212002.0     41.3      0.3          ig  = (nstop >= n)\n",
      "   174                                           \n",
      "   175      5138     112155.0     21.8      0.2          psi    = np.zeros(shape=(NE,NA))\n",
      "   176      5138     113781.0     22.1      0.2          chi    = np.zeros(shape=(NE,NA))\n",
      "   177                                           \n",
      "   178      5138     852564.0    165.9      1.1          psi[ig] = (2.0*en-1.0) * psi1[ig]/x[ig] - psi0[ig]\n",
      "   179      5138     712181.0    138.6      1.0          chi[ig] = (2.0*en-1.0) * chi1[ig]/x[ig] - chi0[ig]\n",
      "   180      5138    1090586.0    212.3      1.5          xi      = psi - 1j * chi\n",
      "   181                                           \n",
      "   182      5138     195390.0     38.0      0.3          an = np.zeros(shape=(NE,NA), dtype='complex')\n",
      "   183      5138     126137.0     24.5      0.2          bn = np.zeros(shape=(NE,NA), dtype='complex')\n",
      "   184                                           \n",
      "   185      5138      41764.0      8.1      0.1          d_n = d[...,n]\n",
      "   186      5138    2322173.0    452.0      3.1          an[ig] = (d_n[ig] / refrel[ig] + en / x[ig]) * psi[ig] - psi1[ig]\n",
      "   187      5138    2058872.0    400.7      2.8          an[ig] = an[ig] / ((d_n[ig] / refrel[ig] + en / x[ig]) * xi[ig] - xi1[ig])\n",
      "   188      5138    1660005.0    323.1      2.2          bn[ig] = (refrel[ig] * d_n[ig] + en / x[ig]) * psi[ig] - psi1[ig]\n",
      "   189      5138    1838043.0    357.7      2.5          bn[ig] = bn[ig] / ((refrel[ig] * d_n[ig] + en/x[ig]) * xi[ig] - xi1[ig])\n",
      "   190                                           \n",
      "   191      5138    1317550.0    256.4      1.8          an_3d = np.repeat(an.reshape(NE,NA,1), NTH, axis=2)\n",
      "   192      5138    1119837.0    218.0      1.5          bn_3d = np.repeat(bn.reshape(NE,NA,1), NTH, axis=2)\n",
      "   193                                           \n",
      "   194                                                   # *** Augment sums for Qsca and g=<cos(theta)>\n",
      "   195                                                   # NOTE from LIA: In IDL version, bhmie casts double(an)\n",
      "   196                                                   # and double(bn).  This disgards the imaginary part.  To\n",
      "   197                                                   # avoid type casting errors, I use an.real and bn.real\n",
      "   198                                                   # Because animag and bnimag were intended to isolate the\n",
      "   199                                                   # real from imaginary parts, I replaced all instances of\n",
      "   200                                                   # double( foo * complex(0.d0,-1.d0) ) with foo.imag\n",
      "   201                                           \n",
      "   202      5138    8205622.0   1597.0     11.0          qsca   = qsca + (2.0 * en + 1.0) * (np.power(np.abs(an),2) + np.power(np.abs(bn),2))\n",
      "   203      5138     961780.0    187.2      1.3          gsca   = gsca + ((2.0 * en + 1.0) / (en * (en + 1.0))) * (an.real * bn.real + an.imag * bn.imag)\n",
      "   204                                           \n",
      "   205      5137      24012.0      4.7      0.0          if n > 1:\n",
      "   206      5137     253933.0     49.4      0.3              gsca    = gsca + ((en-1.0) * (en+1.0)/en) * \\\n",
      "   207      5137    1388785.0    270.3      1.9                  (an1.real*an.real + an1.imag*an.imag + bn1.real*bn.real + bn1.imag*bn.imag)\n",
      "   208                                           \n",
      "   209                                                   # *** Now calculate scattering intensity pattern\n",
      "   210                                                   #     First do angles from 0 to 90\n",
      "   211                                           \n",
      "   212                                                   # LIA : Altered the two loops below so that only the indices where ang\n",
      "   213                                                   # < 90 are used.  Replaced (j) with [indl90]\n",
      "   214                                           \n",
      "   215                                                   # Note also: If theta is specified, and np.size(E) > 1,\n",
      "   216                                                   # the number of E values must match the number of theta\n",
      "   217                                                   # values.  Cosmological halo functions will utilize this\n",
      "   218                                                   # Diff this way.\n",
      "   219                                           \n",
      "   220      5138      18332.0      3.6      0.0          pi  = pi1\n",
      "   221      5138    1476936.0    287.5      2.0          tau = en * amu * pi - (en + 1.0) * pi0\n",
      "   222                                           \n",
      "   223      5138     263704.0     51.3      0.4          if np.size(indl90) != 0:\n",
      "   224      5138    2856044.0    555.9      3.8              antmp = an_3d[...,indl90]\n",
      "   225      5138    2741237.0    533.5      3.7              bntmp = bn_3d[...,indl90]  # For case where multiple E and theta are specified\n",
      "   226      5138   12349721.0   2403.6     16.6              s1[...,indl90] = s1[...,indl90] + fn * (antmp * pi[...,indl90] + bntmp * tau[...,indl90])\n",
      "   227      5138   12100625.0   2355.1     16.2              s2[...,indl90] = s2[...,indl90] + fn * (antmp * tau[...,indl90] + bntmp * pi[...,indl90])\n",
      "   228                                                   #ENDIF\n",
      "   229                                           \n",
      "   230      5138      22447.0      4.4      0.0          pi_ext = pi1_ext\n",
      "   231      5138      45530.0      8.9      0.1          tau_ext = en * 1.0 * pi_ext - (en + 1.0) * pi0_ext\n",
      "   232                                           \n",
      "   233      5138    1721106.0    335.0      2.3          s1_ext = s1_ext + fn * (an * pi_ext + bn * tau_ext)\n",
      "   234      5138    1612702.0    313.9      2.2          s2_ext = s2_ext + fn * (bn * pi_ext + an * tau_ext)\n",
      "   235                                           \n",
      "   236                                                   # *** Now do angles greater than 90 using PI and TAU from\n",
      "   237                                                   #     angles less than 90.\n",
      "   238                                                   #     P=1 for N=1,3,...; P=-1 for N=2,4,...\n",
      "   239                                           \n",
      "   240      5138      23397.0      4.6      0.0          p = -p\n",
      "   241                                           \n",
      "   242                                                   # LIA : Previous code used tau(j) from the previous loop.  How do I\n",
      "   243                                                   # get around this?\n",
      "   244                                           \n",
      "   245      5138     260611.0     50.7      0.3          if np.size(indg90) != 0:\n",
      "   246      5138     164313.0     32.0      0.2              antmp = an_3d[...,indg90]\n",
      "   247      5138     127923.0     24.9      0.2              bntmp = bn_3d[...,indg90]\n",
      "   248      5138     583912.0    113.6      0.8              s1[...,indg90] = s1[...,indg90] + fn * p * (antmp * pi[...,indg90] - bntmp * tau[...,indg90])\n",
      "   249      5138     514889.0    100.2      0.7              s2[...,indg90] = s2[...,indg90] + fn * p * (bntmp * pi[...,indg90] - antmp * tau[...,indg90])\n",
      "   250                                                   #ENDIF\n",
      "   251                                           \n",
      "   252      5138    1471007.0    286.3      2.0          s1_back = s1_back + fn * p * (an * pi_ext - bn * tau_ext)\n",
      "   253      5138    1390149.0    270.6      1.9          s2_back = s2_back + fn * p * (bn * pi_ext - an * tau_ext)\n",
      "   254                                           \n",
      "   255      5138      21566.0      4.2      0.0          psi0 = psi1\n",
      "   256      5138      12307.0      2.4      0.0          psi1 = psi\n",
      "   257      5138      20773.0      4.0      0.0          chi0 = chi1\n",
      "   258      5138      10295.0      2.0      0.0          chi1 = chi\n",
      "   259      5138     927965.0    180.6      1.2          xi1  = psi1 - 1j * chi1\n",
      "   260                                           \n",
      "   261                                                   # *** Compute pi_n for next value of n\n",
      "   262                                                   #     For each angle J, compute pi_n+1\n",
      "   263                                                   #     from PI = pi_n , PI0 = pi_n-1\n",
      "   264                                           \n",
      "   265      5138    2063933.0    401.7      2.8          pi1  = ((2.0 * en + 1.0) * amu * pi - (en + 1.0) * pi0) / en\n",
      "   266      5138      29754.0      5.8      0.0          pi0  = pi\n",
      "   267                                           \n",
      "   268      5138      49534.0      9.6      0.1          pi1_ext = ((2.0 * en + 1.0) * 1.0 * pi_ext - (en + 1.0) * pi0_ext) / en\n",
      "   269      5138      25293.0      4.9      0.0          pi0_ext = pi_ext\n",
      "   270                                           \n",
      "   271                                                   # ENDFOR\n",
      "   272                                           \n",
      "   273                                               # *** Have summed sufficient terms.\n",
      "   274                                               #     Now compute QSCA,QEXT,QBACK,and GSCA\n",
      "   275         1         66.0     66.0      0.0      gsca = 2.0 * gsca / qsca\n",
      "   276         1       1455.0   1455.0      0.0      qsca = (2.0 / np.power(x,2)) * qsca\n",
      "   277                                           \n",
      "   278                                               # LIA : Changed qext to use s1(theta=0) instead of s1(1).  Why did the\n",
      "   279                                               # original code use s1(1)?\n",
      "   280                                           \n",
      "   281         1       1210.0   1210.0      0.0      qext = (4.0 / np.power(x,2)) * s1_ext.real\n",
      "   282         1       1658.0   1658.0      0.0      qback = np.power(np.abs(s1_back)/x, 2) / np.pi\n",
      "   283                                           \n",
      "   284         1          3.0      3.0      0.0      Cdiff = 0.0\n",
      "   285         1         91.0     91.0      0.0      bad_theta = (np.abs(theta_rad_3d) > np.pi)  # Set to 0 values where theta > !pi\n",
      "   286         1         51.0     51.0      0.0      s1[...,bad_theta] = 0\n",
      "   287         1         27.0     27.0      0.0      s2[...,bad_theta] = 0\n",
      "   288         1       3862.0   3862.0      0.0      Cdiff = 0.5 * (np.power(np.abs(s1), 2) + np.power(np.abs(s2), 2)) / (np.pi * np.power(x_3d,2))\n",
      "   289                                           \n",
      "   290         1          4.0      4.0      0.0      result = (qsca, qext, qback, gsca, Cdiff)\n",
      "   291         1          3.0      3.0      0.0      return result\n",
      "\n"
     ]
    }
   ],
   "source": [
    "from MieScattering import calculate\n",
    "from MieScattering import _mie_helper\n",
    "lprofiler = LineProfiler()\n",
    "lprofiler.add_function(_mie_helper)\n",
    "lp_calculate = lprofiler(calculate)\n",
    "lp_calculate(Energy, GrainRadius, cm_sil, theta = Theta)\n",
    "lprofiler.print_stats()"
   ]
  },
  {
   "cell_type": "code",
   "execution_count": 9,
   "id": "8f3db86d",
   "metadata": {},
   "outputs": [],
   "source": []
  },
  {
   "cell_type": "code",
   "execution_count": null,
   "id": "e003b0c9",
   "metadata": {},
   "outputs": [],
   "source": []
  }
 ],
 "metadata": {
  "kernelspec": {
   "display_name": "Python 3 (ipykernel)",
   "language": "python",
   "name": "python3"
  },
  "language_info": {
   "codemirror_mode": {
    "name": "ipython",
    "version": 3
   },
   "file_extension": ".py",
   "mimetype": "text/x-python",
   "name": "python",
   "nbconvert_exporter": "python",
   "pygments_lexer": "ipython3",
   "version": "3.10.4"
  },
  "vscode": {
   "interpreter": {
    "hash": "31b25535c291e80aecbad7710a08d3a81f852582352aaee5def0f85333411f55"
   }
  }
 },
 "nbformat": 4,
 "nbformat_minor": 5
}
